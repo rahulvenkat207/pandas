{
 "cells": [
  {
   "cell_type": "markdown",
   "id": "63b63cd4",
   "metadata": {},
   "source": [
    "# Creating a Pandas DataFrame"
   ]
  },
  {
   "cell_type": "markdown",
   "id": "b6ae9f8d",
   "metadata": {},
   "source": [
    "A Dataframe is a two-dimensional data structure, i.e., data is aligned in a tabular fashion in rows and columns. In dataframe datasets arrange in rows and columns, we can store any number of datasets in a dataframe. We can perform many operations on these datasets like arithmetic operation, columns/rows selection, columns/rows addition etc. "
   ]
  },
  {
   "cell_type": "markdown",
   "id": "7e54889f",
   "metadata": {},
   "source": [
    "# Creating an empty dataframe : \n",
    "A basic DataFrame, which can be created is an Empty Dataframe. An Empty Dataframe is created just by calling a dataframe constructor. "
   ]
  },
  {
   "cell_type": "code",
   "execution_count": 51,
   "id": "b3e43d33",
   "metadata": {},
   "outputs": [],
   "source": [
    "import pandas as pd"
   ]
  },
  {
   "cell_type": "code",
   "execution_count": 52,
   "id": "874f8321",
   "metadata": {},
   "outputs": [
    {
     "name": "stdout",
     "output_type": "stream",
     "text": [
      "Empty DataFrame\n",
      "Columns: []\n",
      "Index: []\n"
     ]
    }
   ],
   "source": [
    "df = pd.DataFrame()\n",
    "print(df)"
   ]
  },
  {
   "cell_type": "markdown",
   "id": "d8bb1f1d",
   "metadata": {},
   "source": [
    "# Creating a dataframe using List: \n",
    "DataFrame can be created using a single list or a list of lists. "
   ]
  },
  {
   "cell_type": "code",
   "execution_count": 53,
   "id": "adf0934c",
   "metadata": {},
   "outputs": [
    {
     "data": {
      "text/html": [
       "<div>\n",
       "<style scoped>\n",
       "    .dataframe tbody tr th:only-of-type {\n",
       "        vertical-align: middle;\n",
       "    }\n",
       "\n",
       "    .dataframe tbody tr th {\n",
       "        vertical-align: top;\n",
       "    }\n",
       "\n",
       "    .dataframe thead th {\n",
       "        text-align: right;\n",
       "    }\n",
       "</style>\n",
       "<table border=\"1\" class=\"dataframe\">\n",
       "  <thead>\n",
       "    <tr style=\"text-align: right;\">\n",
       "      <th></th>\n",
       "      <th>0</th>\n",
       "    </tr>\n",
       "  </thead>\n",
       "  <tbody>\n",
       "    <tr>\n",
       "      <th>0</th>\n",
       "      <td>rahul</td>\n",
       "    </tr>\n",
       "    <tr>\n",
       "      <th>1</th>\n",
       "      <td>is</td>\n",
       "    </tr>\n",
       "    <tr>\n",
       "      <th>2</th>\n",
       "      <td>trained</td>\n",
       "    </tr>\n",
       "    <tr>\n",
       "      <th>3</th>\n",
       "      <td>by</td>\n",
       "    </tr>\n",
       "    <tr>\n",
       "      <th>4</th>\n",
       "      <td>naruto</td>\n",
       "    </tr>\n",
       "    <tr>\n",
       "      <th>5</th>\n",
       "      <td>uzhumaki</td>\n",
       "    </tr>\n",
       "  </tbody>\n",
       "</table>\n",
       "</div>"
      ],
      "text/plain": [
       "          0\n",
       "0     rahul\n",
       "1        is\n",
       "2   trained\n",
       "3        by\n",
       "4    naruto\n",
       "5  uzhumaki"
      ]
     },
     "execution_count": 53,
     "metadata": {},
     "output_type": "execute_result"
    }
   ],
   "source": [
    "li = ['rahul','is','trained','by','naruto','uzhumaki']\n",
    "df = pd.DataFrame(li)\n",
    "df"
   ]
  },
  {
   "cell_type": "markdown",
   "id": "59f520c6",
   "metadata": {},
   "source": [
    "# Creating DataFrame from dict of ndarray/lists: "
   ]
  },
  {
   "cell_type": "code",
   "execution_count": 54,
   "id": "916930df",
   "metadata": {},
   "outputs": [
    {
     "data": {
      "text/html": [
       "<div>\n",
       "<style scoped>\n",
       "    .dataframe tbody tr th:only-of-type {\n",
       "        vertical-align: middle;\n",
       "    }\n",
       "\n",
       "    .dataframe tbody tr th {\n",
       "        vertical-align: top;\n",
       "    }\n",
       "\n",
       "    .dataframe thead th {\n",
       "        text-align: right;\n",
       "    }\n",
       "</style>\n",
       "<table border=\"1\" class=\"dataframe\">\n",
       "  <thead>\n",
       "    <tr style=\"text-align: right;\">\n",
       "      <th></th>\n",
       "      <th>Name</th>\n",
       "      <th>Age</th>\n",
       "    </tr>\n",
       "  </thead>\n",
       "  <tbody>\n",
       "    <tr>\n",
       "      <th>0</th>\n",
       "      <td>Rahul</td>\n",
       "      <td>18</td>\n",
       "    </tr>\n",
       "    <tr>\n",
       "      <th>1</th>\n",
       "      <td>vishnu</td>\n",
       "      <td>19</td>\n",
       "    </tr>\n",
       "    <tr>\n",
       "      <th>2</th>\n",
       "      <td>Yash</td>\n",
       "      <td>17</td>\n",
       "    </tr>\n",
       "    <tr>\n",
       "      <th>3</th>\n",
       "      <td>Riya</td>\n",
       "      <td>16</td>\n",
       "    </tr>\n",
       "  </tbody>\n",
       "</table>\n",
       "</div>"
      ],
      "text/plain": [
       "     Name Age\n",
       "0   Rahul  18\n",
       "1  vishnu  19\n",
       "2    Yash  17\n",
       "3    Riya  16"
      ]
     },
     "execution_count": 54,
     "metadata": {},
     "output_type": "execute_result"
    }
   ],
   "source": [
    "di = {'Name' : ['Rahul','vishnu','Yash','Riya'],\n",
    "       'Age' :['18','19','17','16']}\n",
    "df = pd.DataFrame(di)\n",
    "df"
   ]
  },
  {
   "cell_type": "code",
   "execution_count": 55,
   "id": "84233f9a",
   "metadata": {},
   "outputs": [
    {
     "data": {
      "text/html": [
       "<div>\n",
       "<style scoped>\n",
       "    .dataframe tbody tr th:only-of-type {\n",
       "        vertical-align: middle;\n",
       "    }\n",
       "\n",
       "    .dataframe tbody tr th {\n",
       "        vertical-align: top;\n",
       "    }\n",
       "\n",
       "    .dataframe thead th {\n",
       "        text-align: right;\n",
       "    }\n",
       "</style>\n",
       "<table border=\"1\" class=\"dataframe\">\n",
       "  <thead>\n",
       "    <tr style=\"text-align: right;\">\n",
       "      <th></th>\n",
       "      <th>Name</th>\n",
       "      <th>Age</th>\n",
       "      <th>Score</th>\n",
       "    </tr>\n",
       "  </thead>\n",
       "  <tbody>\n",
       "    <tr>\n",
       "      <th>0</th>\n",
       "      <td>Rahul</td>\n",
       "      <td>18</td>\n",
       "      <td>99</td>\n",
       "    </tr>\n",
       "    <tr>\n",
       "      <th>1</th>\n",
       "      <td>vishnu</td>\n",
       "      <td>19</td>\n",
       "      <td>98</td>\n",
       "    </tr>\n",
       "    <tr>\n",
       "      <th>2</th>\n",
       "      <td>Yash</td>\n",
       "      <td>17</td>\n",
       "      <td>76</td>\n",
       "    </tr>\n",
       "    <tr>\n",
       "      <th>3</th>\n",
       "      <td>Riya</td>\n",
       "      <td>16</td>\n",
       "      <td>100</td>\n",
       "    </tr>\n",
       "    <tr>\n",
       "      <th>4</th>\n",
       "      <td>Venkat</td>\n",
       "      <td>45</td>\n",
       "      <td>98</td>\n",
       "    </tr>\n",
       "    <tr>\n",
       "      <th>5</th>\n",
       "      <td>Uma</td>\n",
       "      <td>36</td>\n",
       "      <td>98</td>\n",
       "    </tr>\n",
       "  </tbody>\n",
       "</table>\n",
       "</div>"
      ],
      "text/plain": [
       "     Name Age Score\n",
       "0   Rahul  18    99\n",
       "1  vishnu  19    98\n",
       "2    Yash  17    76\n",
       "3    Riya  16   100\n",
       "4  Venkat  45    98\n",
       "5     Uma  36    98"
      ]
     },
     "execution_count": 55,
     "metadata": {},
     "output_type": "execute_result"
    }
   ],
   "source": [
    "di = {'Name' : ['Rahul','vishnu','Yash','Riya','Venkat','Uma'],\n",
    "       'Age' :['18','19','17','16','45','36'],\n",
    "       'Score':['99','98','76','100','98','98']}\n",
    "df = pd.DataFrame(di)\n",
    "df"
   ]
  },
  {
   "cell_type": "markdown",
   "id": "866535bd",
   "metadata": {},
   "source": [
    "Parameters:\n",
    "data: It is a dataset from which a DataFrame is to be created. It can be a list, dictionary, scalar value, series, and arrays, etc.\n",
    "index: It is optional, by default the index of the DataFrame starts from 0 and ends at the last data value(n-1). It defines the row label explicitly.\n",
    "columns: This parameter is used to provide column names in the DataFrame. If the column name is not defined by default, it will take a value from 0 to n-1."
   ]
  },
  {
   "cell_type": "markdown",
   "id": "1855fa32",
   "metadata": {},
   "source": [
    "# Create DataFrame from lists of lists"
   ]
  },
  {
   "cell_type": "code",
   "execution_count": 56,
   "id": "4bd03be6",
   "metadata": {},
   "outputs": [],
   "source": [
    "li = [['Rahul','18'],['virat','17'],['AbD','16']]"
   ]
  },
  {
   "cell_type": "code",
   "execution_count": 57,
   "id": "7b9550df",
   "metadata": {},
   "outputs": [
    {
     "data": {
      "text/html": [
       "<div>\n",
       "<style scoped>\n",
       "    .dataframe tbody tr th:only-of-type {\n",
       "        vertical-align: middle;\n",
       "    }\n",
       "\n",
       "    .dataframe tbody tr th {\n",
       "        vertical-align: top;\n",
       "    }\n",
       "\n",
       "    .dataframe thead th {\n",
       "        text-align: right;\n",
       "    }\n",
       "</style>\n",
       "<table border=\"1\" class=\"dataframe\">\n",
       "  <thead>\n",
       "    <tr style=\"text-align: right;\">\n",
       "      <th></th>\n",
       "      <th>Name</th>\n",
       "      <th>Age</th>\n",
       "    </tr>\n",
       "  </thead>\n",
       "  <tbody>\n",
       "    <tr>\n",
       "      <th>0</th>\n",
       "      <td>Rahul</td>\n",
       "      <td>18</td>\n",
       "    </tr>\n",
       "    <tr>\n",
       "      <th>1</th>\n",
       "      <td>virat</td>\n",
       "      <td>17</td>\n",
       "    </tr>\n",
       "    <tr>\n",
       "      <th>2</th>\n",
       "      <td>AbD</td>\n",
       "      <td>16</td>\n",
       "    </tr>\n",
       "  </tbody>\n",
       "</table>\n",
       "</div>"
      ],
      "text/plain": [
       "    Name Age\n",
       "0  Rahul  18\n",
       "1  virat  17\n",
       "2    AbD  16"
      ]
     },
     "execution_count": 57,
     "metadata": {},
     "output_type": "execute_result"
    }
   ],
   "source": [
    "DF = pd.DataFrame(li,columns = ['Name','Age'])\n",
    "DF"
   ]
  },
  {
   "cell_type": "markdown",
   "id": "b256c504",
   "metadata": {},
   "source": [
    "# Create DataFrame from a dictionary of Series"
   ]
  },
  {
   "cell_type": "code",
   "execution_count": 58,
   "id": "a63cb677",
   "metadata": {},
   "outputs": [
    {
     "data": {
      "text/html": [
       "<div>\n",
       "<style scoped>\n",
       "    .dataframe tbody tr th:only-of-type {\n",
       "        vertical-align: middle;\n",
       "    }\n",
       "\n",
       "    .dataframe tbody tr th {\n",
       "        vertical-align: top;\n",
       "    }\n",
       "\n",
       "    .dataframe thead th {\n",
       "        text-align: right;\n",
       "    }\n",
       "</style>\n",
       "<table border=\"1\" class=\"dataframe\">\n",
       "  <thead>\n",
       "    <tr style=\"text-align: right;\">\n",
       "      <th></th>\n",
       "      <th>Rno</th>\n",
       "    </tr>\n",
       "  </thead>\n",
       "  <tbody>\n",
       "    <tr>\n",
       "      <th>111</th>\n",
       "      <td>10</td>\n",
       "    </tr>\n",
       "    <tr>\n",
       "      <th>112</th>\n",
       "      <td>11</td>\n",
       "    </tr>\n",
       "    <tr>\n",
       "      <th>113</th>\n",
       "      <td>12</td>\n",
       "    </tr>\n",
       "    <tr>\n",
       "      <th>114</th>\n",
       "      <td>13</td>\n",
       "    </tr>\n",
       "    <tr>\n",
       "      <th>115</th>\n",
       "      <td>14</td>\n",
       "    </tr>\n",
       "  </tbody>\n",
       "</table>\n",
       "</div>"
      ],
      "text/plain": [
       "     Rno\n",
       "111   10\n",
       "112   11\n",
       "113   12\n",
       "114   13\n",
       "115   14"
      ]
     },
     "execution_count": 58,
     "metadata": {},
     "output_type": "execute_result"
    }
   ],
   "source": [
    "d = {'Rno': pd.Series(np.arange(10,15,1),index = [111,112,113,114,115])}\n",
    "\n",
    "df = pd.DataFrame(d)\n",
    "df"
   ]
  },
  {
   "cell_type": "markdown",
   "id": "2635bc52",
   "metadata": {},
   "source": [
    "# Create DataFrame using the zip() function"
   ]
  },
  {
   "cell_type": "code",
   "execution_count": 59,
   "id": "57186d6a",
   "metadata": {},
   "outputs": [
    {
     "data": {
      "text/html": [
       "<div>\n",
       "<style scoped>\n",
       "    .dataframe tbody tr th:only-of-type {\n",
       "        vertical-align: middle;\n",
       "    }\n",
       "\n",
       "    .dataframe tbody tr th {\n",
       "        vertical-align: top;\n",
       "    }\n",
       "\n",
       "    .dataframe thead th {\n",
       "        text-align: right;\n",
       "    }\n",
       "</style>\n",
       "<table border=\"1\" class=\"dataframe\">\n",
       "  <thead>\n",
       "    <tr style=\"text-align: right;\">\n",
       "      <th></th>\n",
       "      <th>Name</th>\n",
       "      <th>Age</th>\n",
       "    </tr>\n",
       "  </thead>\n",
       "  <tbody>\n",
       "    <tr>\n",
       "      <th>0</th>\n",
       "      <td>rahul</td>\n",
       "      <td>11</td>\n",
       "    </tr>\n",
       "    <tr>\n",
       "      <th>1</th>\n",
       "      <td>venkat</td>\n",
       "      <td>44</td>\n",
       "    </tr>\n",
       "    <tr>\n",
       "      <th>2</th>\n",
       "      <td>uma</td>\n",
       "      <td>55</td>\n",
       "    </tr>\n",
       "    <tr>\n",
       "      <th>3</th>\n",
       "      <td>anbarasi</td>\n",
       "      <td>45</td>\n",
       "    </tr>\n",
       "  </tbody>\n",
       "</table>\n",
       "</div>"
      ],
      "text/plain": [
       "       Name  Age\n",
       "0     rahul   11\n",
       "1    venkat   44\n",
       "2       uma   55\n",
       "3  anbarasi   45"
      ]
     },
     "execution_count": 59,
     "metadata": {},
     "output_type": "execute_result"
    }
   ],
   "source": [
    "name = ['rahul','venkat','uma','anbarasi']\n",
    "age = [11,44,55,45]\n",
    "li = list(zip(name,age))\n",
    "\n",
    "df = pd.DataFrame(li,columns = ['Name','Age'])\n",
    "df"
   ]
  },
  {
   "cell_type": "markdown",
   "id": "a26f164a",
   "metadata": {},
   "source": [
    "# Python Pandas Series"
   ]
  },
  {
   "cell_type": "markdown",
   "id": "d0e3e2e0",
   "metadata": {},
   "source": [
    "Pandas Series is a one-dimensional labeled array capable of holding data of any type (integer, string, float, python objects, etc.)."
   ]
  },
  {
   "cell_type": "markdown",
   "id": "efaa9124",
   "metadata": {},
   "source": [
    "# Creating a series from array:"
   ]
  },
  {
   "cell_type": "code",
   "execution_count": 60,
   "id": "22e773b4",
   "metadata": {},
   "outputs": [
    {
     "data": {
      "text/plain": [
       "array(['r', 'a', 'h', 'u', 'l'], dtype='<U1')"
      ]
     },
     "execution_count": 60,
     "metadata": {},
     "output_type": "execute_result"
    }
   ],
   "source": [
    "import numpy as np\n",
    "data =np.array (['r','a','h','u','l'])\n",
    "data"
   ]
  },
  {
   "cell_type": "code",
   "execution_count": 61,
   "id": "005a5b30",
   "metadata": {},
   "outputs": [
    {
     "name": "stdout",
     "output_type": "stream",
     "text": [
      "0    r\n",
      "1    a\n",
      "2    h\n",
      "3    u\n",
      "4    l\n",
      "dtype: object\n"
     ]
    }
   ],
   "source": [
    "df = pd.Series(data)\n",
    "print(df)"
   ]
  },
  {
   "cell_type": "markdown",
   "id": "c30135aa",
   "metadata": {},
   "source": [
    "# Creating a series from array with an index"
   ]
  },
  {
   "cell_type": "code",
   "execution_count": 62,
   "id": "a209a84e",
   "metadata": {},
   "outputs": [
    {
     "data": {
      "text/plain": [
       "array(['r', 'a', 'h', 'u', 'l', '', 'v', 'e', 'n', 'k', 'a', 't', 'e',\n",
       "       's', 'a', 'n'], dtype='<U1')"
      ]
     },
     "execution_count": 62,
     "metadata": {},
     "output_type": "execute_result"
    }
   ],
   "source": [
    "import numpy as np\n",
    "data =np.array (['r','a','h','u','l','','v','e','n','k','a','t','e','s','a','n'])\n",
    "data"
   ]
  },
  {
   "cell_type": "code",
   "execution_count": 63,
   "id": "d2da39d5",
   "metadata": {},
   "outputs": [
    {
     "data": {
      "text/plain": [
       "100    r\n",
       "101    a\n",
       "102    h\n",
       "103    u\n",
       "104    l\n",
       "105     \n",
       "106    v\n",
       "107    e\n",
       "108    n\n",
       "109    k\n",
       "110    a\n",
       "111    t\n",
       "112    e\n",
       "113    s\n",
       "114    a\n",
       "115    n\n",
       "dtype: object"
      ]
     },
     "execution_count": 63,
     "metadata": {},
     "output_type": "execute_result"
    }
   ],
   "source": [
    "df = pd.Series(data,index = [100,101,102,103,104,105,106,107,108,109,110,111,112,113,114,115\n",
    "                               ])\n",
    "df"
   ]
  },
  {
   "cell_type": "markdown",
   "id": "285d8119",
   "metadata": {},
   "source": [
    "# Creating a series from Lists: "
   ]
  },
  {
   "cell_type": "code",
   "execution_count": 64,
   "id": "ddde79aa",
   "metadata": {},
   "outputs": [
    {
     "data": {
      "text/plain": [
       "0    r\n",
       "1    a\n",
       "2    h\n",
       "3    u\n",
       "4    l\n",
       "dtype: object"
      ]
     },
     "execution_count": 64,
     "metadata": {},
     "output_type": "execute_result"
    }
   ],
   "source": [
    "li = ['r','a','h','u','l']\n",
    "df = pd.Series(li)\n",
    "df"
   ]
  },
  {
   "cell_type": "markdown",
   "id": "18edb4aa",
   "metadata": {},
   "source": [
    "# Creating a series from Lists: "
   ]
  },
  {
   "cell_type": "code",
   "execution_count": 65,
   "id": "c91d2c4b",
   "metadata": {},
   "outputs": [
    {
     "data": {
      "text/plain": [
       "Rahul     5\n",
       "venkat    6\n",
       "dtype: int64"
      ]
     },
     "execution_count": 65,
     "metadata": {},
     "output_type": "execute_result"
    }
   ],
   "source": [
    "dict = {'Rahul' : 5,\n",
    "        'venkat' : 6}\n",
    "df = pd.Series(dict)\n",
    "df"
   ]
  },
  {
   "cell_type": "markdown",
   "id": "cfee101d",
   "metadata": {},
   "source": [
    "# Creating a series using NumPy functions : I"
   ]
  },
  {
   "cell_type": "code",
   "execution_count": 66,
   "id": "2ab5ffb5",
   "metadata": {},
   "outputs": [
    {
     "data": {
      "text/plain": [
       "0     1\n",
       "1    11\n",
       "2    21\n",
       "3    31\n",
       "4    41\n",
       "5    51\n",
       "6    61\n",
       "7    71\n",
       "8    81\n",
       "9    91\n",
       "dtype: int32"
      ]
     },
     "execution_count": 66,
     "metadata": {},
     "output_type": "execute_result"
    }
   ],
   "source": [
    "df = pd.Series(np.arange(1,100,10))\n",
    "df"
   ]
  },
  {
   "cell_type": "code",
   "execution_count": 67,
   "id": "a48140c4",
   "metadata": {},
   "outputs": [
    {
     "data": {
      "text/plain": [
       "0      1.0\n",
       "1     50.5\n",
       "2    100.0\n",
       "dtype: float64"
      ]
     },
     "execution_count": 67,
     "metadata": {},
     "output_type": "execute_result"
    }
   ],
   "source": [
    "df = pd.Series(np.linspace(1,100,3))\n",
    "df"
   ]
  },
  {
   "cell_type": "code",
   "execution_count": null,
   "id": "8abf882a",
   "metadata": {},
   "outputs": [],
   "source": []
  }
 ],
 "metadata": {
  "kernelspec": {
   "display_name": "Python 3 (ipykernel)",
   "language": "python",
   "name": "python3"
  },
  "language_info": {
   "codemirror_mode": {
    "name": "ipython",
    "version": 3
   },
   "file_extension": ".py",
   "mimetype": "text/x-python",
   "name": "python",
   "nbconvert_exporter": "python",
   "pygments_lexer": "ipython3",
   "version": "3.11.5"
  }
 },
 "nbformat": 4,
 "nbformat_minor": 5
}
