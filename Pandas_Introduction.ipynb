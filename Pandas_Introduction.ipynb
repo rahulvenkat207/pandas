{
 "cells": [
  {
   "cell_type": "markdown",
   "id": "c45047f1",
   "metadata": {},
   "source": [
    "Pandas is an open-source library that is built on top of NumPy library"
   ]
  },
  {
   "cell_type": "markdown",
   "id": "9a08d173",
   "metadata": {},
   "source": [
    "Pandas is a powerful and open-source Python library. The Pandas library is used for data manipulation and analysis. Pandas consist of data structures and functions to perform efficient operations on data."
   ]
  },
  {
   "cell_type": "markdown",
   "id": "b32801cc",
   "metadata": {},
   "source": [
    "Pandas is well-suited for working with tabular data, such as spreadsheets or SQL tables.\n",
    "\n",
    "The Pandas library is an essential tool for data analysts, scientists, and engineers working with structured data in Python.\n",
    "\n",
    "\n",
    "\n",
    "Pandas name is derived from “panel data” and is also refered as “Python Data Analysis“"
   ]
  },
  {
   "cell_type": "markdown",
   "id": "5726672c",
   "metadata": {},
   "source": [
    "It is built on top of the NumPy library which means that a lot of the structures of NumPy are used or replicated in Pandas.\n",
    "\n",
    "The data produced by Pandas is often used as input for plotting functions in Matplotlib, statistical analysis in SciPy, and machine learning algorithms in Scikit-learn."
   ]
  },
  {
   "cell_type": "markdown",
   "id": "0c648443",
   "metadata": {},
   "source": [
    "# Data Structures in Pandas Library\n",
    "Pandas generally provide two data structures for manipulating data. They are:\n",
    "\n",
    "Series\n",
    "DataFrame"
   ]
  },
  {
   "cell_type": "markdown",
   "id": "26bb73e2",
   "metadata": {},
   "source": [
    "# Pandas Series\n",
    "A Pandas Series is a one-dimensional labeled array capable of holding data of any type (integer, string, float, Python objects, etc.). The axis labels are collectively called indexes."
   ]
  },
  {
   "cell_type": "markdown",
   "id": "c86a8125",
   "metadata": {},
   "source": [
    "Pandas Series can be created from lists, dictionaries, scalar values, etc."
   ]
  },
  {
   "cell_type": "markdown",
   "id": "6a01a7a4",
   "metadata": {},
   "source": [
    "# Pandas DataFrame\n",
    "Pandas DataFrame is a two-dimensional data structure with labeled axes (rows and columns)."
   ]
  },
  {
   "cell_type": "code",
   "execution_count": 1,
   "id": "eb06d60d",
   "metadata": {},
   "outputs": [],
   "source": [
    "import pandas as pd"
   ]
  },
  {
   "cell_type": "code",
   "execution_count": null,
   "id": "dfef0f93",
   "metadata": {},
   "outputs": [],
   "source": []
  }
 ],
 "metadata": {
  "kernelspec": {
   "display_name": "Python 3 (ipykernel)",
   "language": "python",
   "name": "python3"
  },
  "language_info": {
   "codemirror_mode": {
    "name": "ipython",
    "version": 3
   },
   "file_extension": ".py",
   "mimetype": "text/x-python",
   "name": "python",
   "nbconvert_exporter": "python",
   "pygments_lexer": "ipython3",
   "version": "3.11.5"
  }
 },
 "nbformat": 4,
 "nbformat_minor": 5
}
