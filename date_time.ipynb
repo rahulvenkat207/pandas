{
 "cells": [
  {
   "cell_type": "markdown",
   "id": "ce3ce042",
   "metadata": {},
   "source": [
    "# Working with date and time using Pandas"
   ]
  },
  {
   "cell_type": "code",
   "execution_count": 10,
   "id": "963deac0",
   "metadata": {},
   "outputs": [],
   "source": [
    "import pandas as pd"
   ]
  },
  {
   "cell_type": "code",
   "execution_count": 11,
   "id": "e7f27f84",
   "metadata": {},
   "outputs": [],
   "source": [
    "from datetime import date"
   ]
  },
  {
   "cell_type": "code",
   "execution_count": 12,
   "id": "3c2de256",
   "metadata": {},
   "outputs": [],
   "source": [
    "d = date(2019,9,17)"
   ]
  },
  {
   "cell_type": "code",
   "execution_count": 13,
   "id": "0fbf165c",
   "metadata": {},
   "outputs": [
    {
     "data": {
      "text/plain": [
       "datetime.date(2019, 9, 17)"
      ]
     },
     "execution_count": 13,
     "metadata": {},
     "output_type": "execute_result"
    }
   ],
   "source": [
    "d"
   ]
  },
  {
   "cell_type": "code",
   "execution_count": 14,
   "id": "aa7a8693",
   "metadata": {},
   "outputs": [
    {
     "data": {
      "text/plain": [
       "datetime.date"
      ]
     },
     "execution_count": 14,
     "metadata": {},
     "output_type": "execute_result"
    }
   ],
   "source": [
    "type(d)"
   ]
  },
  {
   "cell_type": "markdown",
   "id": "19ad7164",
   "metadata": {},
   "source": [
    "# Year, month, and day extraction\n",
    "Retrieve the year, month, and day components from a Timestamp object."
   ]
  },
  {
   "cell_type": "code",
   "execution_count": 18,
   "id": "8ceee09f",
   "metadata": {},
   "outputs": [
    {
     "data": {
      "text/plain": [
       "Timestamp('2023-01-17 15:30:00')"
      ]
     },
     "execution_count": 18,
     "metadata": {},
     "output_type": "execute_result"
    }
   ],
   "source": [
    "var = pd.Timestamp(\"2023-1-17  15:30:00\")\n",
    "var"
   ]
  },
  {
   "cell_type": "code",
   "execution_count": 21,
   "id": "78889836",
   "metadata": {},
   "outputs": [
    {
     "data": {
      "text/plain": [
       "2023"
      ]
     },
     "execution_count": 21,
     "metadata": {},
     "output_type": "execute_result"
    }
   ],
   "source": [
    "year= var.year\n",
    "year"
   ]
  },
  {
   "cell_type": "code",
   "execution_count": 23,
   "id": "9b12fe32",
   "metadata": {},
   "outputs": [
    {
     "data": {
      "text/plain": [
       "1"
      ]
     },
     "execution_count": 23,
     "metadata": {},
     "output_type": "execute_result"
    }
   ],
   "source": [
    "month = var.month\n",
    "month"
   ]
  },
  {
   "cell_type": "code",
   "execution_count": 25,
   "id": "e97b7956",
   "metadata": {},
   "outputs": [
    {
     "data": {
      "text/plain": [
       "17"
      ]
     },
     "execution_count": 25,
     "metadata": {},
     "output_type": "execute_result"
    }
   ],
   "source": [
    "date = var.day\n",
    "date"
   ]
  },
  {
   "cell_type": "markdown",
   "id": "4c42fcca",
   "metadata": {},
   "source": [
    "# Weekdays and quarters"
   ]
  },
  {
   "cell_type": "code",
   "execution_count": 27,
   "id": "393a57e6",
   "metadata": {},
   "outputs": [
    {
     "data": {
      "text/plain": [
       "15"
      ]
     },
     "execution_count": 27,
     "metadata": {},
     "output_type": "execute_result"
    }
   ],
   "source": [
    "hour = var.hour\n",
    "hour"
   ]
  },
  {
   "cell_type": "code",
   "execution_count": 28,
   "id": "b0a26127",
   "metadata": {},
   "outputs": [
    {
     "data": {
      "text/plain": [
       "30"
      ]
     },
     "execution_count": 28,
     "metadata": {},
     "output_type": "execute_result"
    }
   ],
   "source": [
    "minute = var.minute\n",
    "minute"
   ]
  },
  {
   "cell_type": "code",
   "execution_count": 30,
   "id": "d6389428",
   "metadata": {},
   "outputs": [
    {
     "data": {
      "text/plain": [
       "1"
      ]
     },
     "execution_count": 30,
     "metadata": {},
     "output_type": "execute_result"
    }
   ],
   "source": [
    "weekday = var.weekday()\n",
    "weekday"
   ]
  },
  {
   "cell_type": "code",
   "execution_count": 33,
   "id": "c44e3ed7",
   "metadata": {},
   "outputs": [
    {
     "data": {
      "text/plain": [
       "1"
      ]
     },
     "execution_count": 33,
     "metadata": {},
     "output_type": "execute_result"
    }
   ],
   "source": [
    "quarter = var.quarter\n",
    "quarter"
   ]
  },
  {
   "cell_type": "markdown",
   "id": "594a0977",
   "metadata": {},
   "source": [
    "# Working with Time in Pandas"
   ]
  },
  {
   "cell_type": "code",
   "execution_count": 34,
   "id": "aa7b22fd",
   "metadata": {},
   "outputs": [
    {
     "name": "stdout",
     "output_type": "stream",
     "text": [
      "12:50:12.000040\n",
      "<class 'datetime.time'>\n"
     ]
    }
   ],
   "source": [
    "from datetime import time\n",
    " \n",
    "t = time(12,50,12,40)\n",
    " \n",
    "print(t)\n",
    " \n",
    "print(type(t))"
   ]
  },
  {
   "cell_type": "code",
   "execution_count": null,
   "id": "bc59ce3c",
   "metadata": {},
   "outputs": [],
   "source": []
  }
 ],
 "metadata": {
  "kernelspec": {
   "display_name": "Python 3 (ipykernel)",
   "language": "python",
   "name": "python3"
  },
  "language_info": {
   "codemirror_mode": {
    "name": "ipython",
    "version": 3
   },
   "file_extension": ".py",
   "mimetype": "text/x-python",
   "name": "python",
   "nbconvert_exporter": "python",
   "pygments_lexer": "ipython3",
   "version": "3.11.5"
  }
 },
 "nbformat": 4,
 "nbformat_minor": 5
}
